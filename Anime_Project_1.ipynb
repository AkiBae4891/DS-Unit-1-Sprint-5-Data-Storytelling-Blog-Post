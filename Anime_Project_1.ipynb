{
  "nbformat": 4,
  "nbformat_minor": 0,
  "metadata": {
    "colab": {
      "name": "Anime Project 1.ipynb",
      "version": "0.3.2",
      "provenance": [],
      "collapsed_sections": [],
      "include_colab_link": true
    },
    "kernelspec": {
      "name": "python3",
      "display_name": "Python 3"
    }
  },
  "cells": [
    {
      "cell_type": "markdown",
      "metadata": {
        "id": "view-in-github",
        "colab_type": "text"
      },
      "source": [
        "<a href=\"https://colab.research.google.com/github/AkiBae4891/DS-Unit-1-Sprint-5-Data-Storytelling-Blog-Post/blob/master/Anime_Project_1.ipynb\" target=\"_parent\"><img src=\"https://colab.research.google.com/assets/colab-badge.svg\" alt=\"Open In Colab\"/></a>"
      ]
    },
    {
      "cell_type": "code",
      "metadata": {
        "id": "t365i-UC0uK8",
        "colab_type": "code",
        "colab": {}
      },
      "source": [
        "# imports for the project\n",
        "import pandas as pd\n",
        "import matplotlib.pyplot as plt\n",
        "import seaborn as sns\n",
        "import numpy as np\n"
      ],
      "execution_count": 0,
      "outputs": []
    },
    {
      "cell_type": "markdown",
      "metadata": {
        "id": "o9bbup2ld8Q4",
        "colab_type": "text"
      },
      "source": [
        "## First, we use Pandas to read our data and make a dataframe called \"Anime\""
      ]
    },
    {
      "cell_type": "code",
      "metadata": {
        "id": "g5v-Qg3N1BDU",
        "colab_type": "code",
        "colab": {}
      },
      "source": [
        "anime = pd.read_csv('anime.csv')\n"
      ],
      "execution_count": 0,
      "outputs": []
    },
    {
      "cell_type": "code",
      "metadata": {
        "id": "0TqTIcbe7w3J",
        "colab_type": "code",
        "outputId": "35a4f053-e9f4-4ab3-e3af-f09ff6981011",
        "colab": {
          "base_uri": "https://localhost:8080/",
          "height": 359
        }
      },
      "source": [
        "# Look inside the first 10 rows\n",
        "anime.head(10)"
      ],
      "execution_count": 3,
      "outputs": [
        {
          "output_type": "execute_result",
          "data": {
            "text/html": [
              "<div>\n",
              "<style scoped>\n",
              "    .dataframe tbody tr th:only-of-type {\n",
              "        vertical-align: middle;\n",
              "    }\n",
              "\n",
              "    .dataframe tbody tr th {\n",
              "        vertical-align: top;\n",
              "    }\n",
              "\n",
              "    .dataframe thead th {\n",
              "        text-align: right;\n",
              "    }\n",
              "</style>\n",
              "<table border=\"1\" class=\"dataframe\">\n",
              "  <thead>\n",
              "    <tr style=\"text-align: right;\">\n",
              "      <th></th>\n",
              "      <th>anime_id</th>\n",
              "      <th>name</th>\n",
              "      <th>genre</th>\n",
              "      <th>type</th>\n",
              "      <th>episodes</th>\n",
              "      <th>rating</th>\n",
              "      <th>members</th>\n",
              "    </tr>\n",
              "  </thead>\n",
              "  <tbody>\n",
              "    <tr>\n",
              "      <th>0</th>\n",
              "      <td>32281</td>\n",
              "      <td>Kimi no Na wa.</td>\n",
              "      <td>Drama, Romance, School, Supernatural</td>\n",
              "      <td>Movie</td>\n",
              "      <td>1</td>\n",
              "      <td>9.37</td>\n",
              "      <td>200630</td>\n",
              "    </tr>\n",
              "    <tr>\n",
              "      <th>1</th>\n",
              "      <td>5114</td>\n",
              "      <td>Fullmetal Alchemist: Brotherhood</td>\n",
              "      <td>Action, Adventure, Drama, Fantasy, Magic, Mili...</td>\n",
              "      <td>TV</td>\n",
              "      <td>64</td>\n",
              "      <td>9.26</td>\n",
              "      <td>793665</td>\n",
              "    </tr>\n",
              "    <tr>\n",
              "      <th>2</th>\n",
              "      <td>28977</td>\n",
              "      <td>Gintama°</td>\n",
              "      <td>Action, Comedy, Historical, Parody, Samurai, S...</td>\n",
              "      <td>TV</td>\n",
              "      <td>51</td>\n",
              "      <td>9.25</td>\n",
              "      <td>114262</td>\n",
              "    </tr>\n",
              "    <tr>\n",
              "      <th>3</th>\n",
              "      <td>9253</td>\n",
              "      <td>Steins;Gate</td>\n",
              "      <td>Sci-Fi, Thriller</td>\n",
              "      <td>TV</td>\n",
              "      <td>24</td>\n",
              "      <td>9.17</td>\n",
              "      <td>673572</td>\n",
              "    </tr>\n",
              "    <tr>\n",
              "      <th>4</th>\n",
              "      <td>9969</td>\n",
              "      <td>Gintama&amp;#039;</td>\n",
              "      <td>Action, Comedy, Historical, Parody, Samurai, S...</td>\n",
              "      <td>TV</td>\n",
              "      <td>51</td>\n",
              "      <td>9.16</td>\n",
              "      <td>151266</td>\n",
              "    </tr>\n",
              "    <tr>\n",
              "      <th>5</th>\n",
              "      <td>32935</td>\n",
              "      <td>Haikyuu!!: Karasuno Koukou VS Shiratorizawa Ga...</td>\n",
              "      <td>Comedy, Drama, School, Shounen, Sports</td>\n",
              "      <td>TV</td>\n",
              "      <td>10</td>\n",
              "      <td>9.15</td>\n",
              "      <td>93351</td>\n",
              "    </tr>\n",
              "    <tr>\n",
              "      <th>6</th>\n",
              "      <td>11061</td>\n",
              "      <td>Hunter x Hunter (2011)</td>\n",
              "      <td>Action, Adventure, Shounen, Super Power</td>\n",
              "      <td>TV</td>\n",
              "      <td>148</td>\n",
              "      <td>9.13</td>\n",
              "      <td>425855</td>\n",
              "    </tr>\n",
              "    <tr>\n",
              "      <th>7</th>\n",
              "      <td>820</td>\n",
              "      <td>Ginga Eiyuu Densetsu</td>\n",
              "      <td>Drama, Military, Sci-Fi, Space</td>\n",
              "      <td>OVA</td>\n",
              "      <td>110</td>\n",
              "      <td>9.11</td>\n",
              "      <td>80679</td>\n",
              "    </tr>\n",
              "    <tr>\n",
              "      <th>8</th>\n",
              "      <td>15335</td>\n",
              "      <td>Gintama Movie: Kanketsu-hen - Yorozuya yo Eien...</td>\n",
              "      <td>Action, Comedy, Historical, Parody, Samurai, S...</td>\n",
              "      <td>Movie</td>\n",
              "      <td>1</td>\n",
              "      <td>9.10</td>\n",
              "      <td>72534</td>\n",
              "    </tr>\n",
              "    <tr>\n",
              "      <th>9</th>\n",
              "      <td>15417</td>\n",
              "      <td>Gintama&amp;#039;: Enchousen</td>\n",
              "      <td>Action, Comedy, Historical, Parody, Samurai, S...</td>\n",
              "      <td>TV</td>\n",
              "      <td>13</td>\n",
              "      <td>9.11</td>\n",
              "      <td>81109</td>\n",
              "    </tr>\n",
              "  </tbody>\n",
              "</table>\n",
              "</div>"
            ],
            "text/plain": [
              "   anime_id                                               name  ... rating members\n",
              "0     32281                                     Kimi no Na wa.  ...   9.37  200630\n",
              "1      5114                   Fullmetal Alchemist: Brotherhood  ...   9.26  793665\n",
              "2     28977                                           Gintama°  ...   9.25  114262\n",
              "3      9253                                        Steins;Gate  ...   9.17  673572\n",
              "4      9969                                      Gintama&#039;  ...   9.16  151266\n",
              "5     32935  Haikyuu!!: Karasuno Koukou VS Shiratorizawa Ga...  ...   9.15   93351\n",
              "6     11061                             Hunter x Hunter (2011)  ...   9.13  425855\n",
              "7       820                               Ginga Eiyuu Densetsu  ...   9.11   80679\n",
              "8     15335  Gintama Movie: Kanketsu-hen - Yorozuya yo Eien...  ...   9.10   72534\n",
              "9     15417                           Gintama&#039;: Enchousen  ...   9.11   81109\n",
              "\n",
              "[10 rows x 7 columns]"
            ]
          },
          "metadata": {
            "tags": []
          },
          "execution_count": 3
        }
      ]
    },
    {
      "cell_type": "markdown",
      "metadata": {
        "id": "9EgWHb68eTC0",
        "colab_type": "text"
      },
      "source": [
        "## It's important to check if there are any NA or Unknown values in the data"
      ]
    },
    {
      "cell_type": "code",
      "metadata": {
        "id": "nDcTZ-zPBaSM",
        "colab_type": "code",
        "outputId": "0760638f-21c7-4241-a572-1a161eced072",
        "colab": {
          "base_uri": "https://localhost:8080/",
          "height": 170
        }
      },
      "source": [
        "# I saw 'episodes' has an input 'unknown' making the column an object.\n",
        "print(anime.shape)\n",
        "anime.dtypes"
      ],
      "execution_count": 4,
      "outputs": [
        {
          "output_type": "stream",
          "text": [
            "(12294, 7)\n"
          ],
          "name": "stdout"
        },
        {
          "output_type": "execute_result",
          "data": {
            "text/plain": [
              "anime_id      int64\n",
              "name         object\n",
              "genre        object\n",
              "type         object\n",
              "episodes     object\n",
              "rating      float64\n",
              "members       int64\n",
              "dtype: object"
            ]
          },
          "metadata": {
            "tags": []
          },
          "execution_count": 4
        }
      ]
    },
    {
      "cell_type": "code",
      "metadata": {
        "id": "Pa-OIgeph-AY",
        "colab_type": "code",
        "colab": {
          "base_uri": "https://localhost:8080/",
          "height": 297
        },
        "outputId": "97f185da-1344-47d4-f32e-95bc899cd5b4"
      },
      "source": [
        "anime.describe(exclude='object')"
      ],
      "execution_count": 5,
      "outputs": [
        {
          "output_type": "execute_result",
          "data": {
            "text/html": [
              "<div>\n",
              "<style scoped>\n",
              "    .dataframe tbody tr th:only-of-type {\n",
              "        vertical-align: middle;\n",
              "    }\n",
              "\n",
              "    .dataframe tbody tr th {\n",
              "        vertical-align: top;\n",
              "    }\n",
              "\n",
              "    .dataframe thead th {\n",
              "        text-align: right;\n",
              "    }\n",
              "</style>\n",
              "<table border=\"1\" class=\"dataframe\">\n",
              "  <thead>\n",
              "    <tr style=\"text-align: right;\">\n",
              "      <th></th>\n",
              "      <th>anime_id</th>\n",
              "      <th>rating</th>\n",
              "      <th>members</th>\n",
              "    </tr>\n",
              "  </thead>\n",
              "  <tbody>\n",
              "    <tr>\n",
              "      <th>count</th>\n",
              "      <td>12294.000000</td>\n",
              "      <td>12064.000000</td>\n",
              "      <td>1.229400e+04</td>\n",
              "    </tr>\n",
              "    <tr>\n",
              "      <th>mean</th>\n",
              "      <td>14058.221653</td>\n",
              "      <td>6.473902</td>\n",
              "      <td>1.807134e+04</td>\n",
              "    </tr>\n",
              "    <tr>\n",
              "      <th>std</th>\n",
              "      <td>11455.294701</td>\n",
              "      <td>1.026746</td>\n",
              "      <td>5.482068e+04</td>\n",
              "    </tr>\n",
              "    <tr>\n",
              "      <th>min</th>\n",
              "      <td>1.000000</td>\n",
              "      <td>1.670000</td>\n",
              "      <td>5.000000e+00</td>\n",
              "    </tr>\n",
              "    <tr>\n",
              "      <th>25%</th>\n",
              "      <td>3484.250000</td>\n",
              "      <td>5.880000</td>\n",
              "      <td>2.250000e+02</td>\n",
              "    </tr>\n",
              "    <tr>\n",
              "      <th>50%</th>\n",
              "      <td>10260.500000</td>\n",
              "      <td>6.570000</td>\n",
              "      <td>1.550000e+03</td>\n",
              "    </tr>\n",
              "    <tr>\n",
              "      <th>75%</th>\n",
              "      <td>24794.500000</td>\n",
              "      <td>7.180000</td>\n",
              "      <td>9.437000e+03</td>\n",
              "    </tr>\n",
              "    <tr>\n",
              "      <th>max</th>\n",
              "      <td>34527.000000</td>\n",
              "      <td>10.000000</td>\n",
              "      <td>1.013917e+06</td>\n",
              "    </tr>\n",
              "  </tbody>\n",
              "</table>\n",
              "</div>"
            ],
            "text/plain": [
              "           anime_id        rating       members\n",
              "count  12294.000000  12064.000000  1.229400e+04\n",
              "mean   14058.221653      6.473902  1.807134e+04\n",
              "std    11455.294701      1.026746  5.482068e+04\n",
              "min        1.000000      1.670000  5.000000e+00\n",
              "25%     3484.250000      5.880000  2.250000e+02\n",
              "50%    10260.500000      6.570000  1.550000e+03\n",
              "75%    24794.500000      7.180000  9.437000e+03\n",
              "max    34527.000000     10.000000  1.013917e+06"
            ]
          },
          "metadata": {
            "tags": []
          },
          "execution_count": 5
        }
      ]
    },
    {
      "cell_type": "code",
      "metadata": {
        "id": "LwLKwN5WvBP4",
        "colab_type": "code",
        "colab": {
          "base_uri": "https://localhost:8080/",
          "height": 173
        },
        "outputId": "6f8b62fc-d7c2-406d-aa5b-091d53008ad3"
      },
      "source": [
        "# in 'episodes' column there are 187 unique entries without numbers\n",
        "anime.describe(exclude='number')"
      ],
      "execution_count": 6,
      "outputs": [
        {
          "output_type": "execute_result",
          "data": {
            "text/html": [
              "<div>\n",
              "<style scoped>\n",
              "    .dataframe tbody tr th:only-of-type {\n",
              "        vertical-align: middle;\n",
              "    }\n",
              "\n",
              "    .dataframe tbody tr th {\n",
              "        vertical-align: top;\n",
              "    }\n",
              "\n",
              "    .dataframe thead th {\n",
              "        text-align: right;\n",
              "    }\n",
              "</style>\n",
              "<table border=\"1\" class=\"dataframe\">\n",
              "  <thead>\n",
              "    <tr style=\"text-align: right;\">\n",
              "      <th></th>\n",
              "      <th>name</th>\n",
              "      <th>genre</th>\n",
              "      <th>type</th>\n",
              "      <th>episodes</th>\n",
              "    </tr>\n",
              "  </thead>\n",
              "  <tbody>\n",
              "    <tr>\n",
              "      <th>count</th>\n",
              "      <td>12294</td>\n",
              "      <td>12232</td>\n",
              "      <td>12269</td>\n",
              "      <td>12294</td>\n",
              "    </tr>\n",
              "    <tr>\n",
              "      <th>unique</th>\n",
              "      <td>12292</td>\n",
              "      <td>3264</td>\n",
              "      <td>6</td>\n",
              "      <td>187</td>\n",
              "    </tr>\n",
              "    <tr>\n",
              "      <th>top</th>\n",
              "      <td>Saru Kani Gassen</td>\n",
              "      <td>Hentai</td>\n",
              "      <td>TV</td>\n",
              "      <td>1</td>\n",
              "    </tr>\n",
              "    <tr>\n",
              "      <th>freq</th>\n",
              "      <td>2</td>\n",
              "      <td>823</td>\n",
              "      <td>3787</td>\n",
              "      <td>5677</td>\n",
              "    </tr>\n",
              "  </tbody>\n",
              "</table>\n",
              "</div>"
            ],
            "text/plain": [
              "                    name   genre   type episodes\n",
              "count              12294   12232  12269    12294\n",
              "unique             12292    3264      6      187\n",
              "top     Saru Kani Gassen  Hentai     TV        1\n",
              "freq                   2     823   3787     5677"
            ]
          },
          "metadata": {
            "tags": []
          },
          "execution_count": 6
        }
      ]
    },
    {
      "cell_type": "markdown",
      "metadata": {
        "id": "1XlkhVwWeqQ-",
        "colab_type": "text"
      },
      "source": [
        "## Using this method we can count how many missing values there are, and where they are."
      ]
    },
    {
      "cell_type": "code",
      "metadata": {
        "id": "73LC3fMah-VA",
        "colab_type": "code",
        "colab": {
          "base_uri": "https://localhost:8080/",
          "height": 153
        },
        "outputId": "e2c0d3a2-7934-4f29-8bad-5af42998159e"
      },
      "source": [
        "# there are quite a lot of NA entries\n",
        "anime.isnull().sum()"
      ],
      "execution_count": 8,
      "outputs": [
        {
          "output_type": "execute_result",
          "data": {
            "text/plain": [
              "anime_id      0\n",
              "name          0\n",
              "genre        62\n",
              "type         25\n",
              "episodes      0\n",
              "rating      230\n",
              "members       0\n",
              "dtype: int64"
            ]
          },
          "metadata": {
            "tags": []
          },
          "execution_count": 8
        }
      ]
    },
    {
      "cell_type": "code",
      "metadata": {
        "id": "lVmxvBiqvWuy",
        "colab_type": "code",
        "colab": {
          "base_uri": "https://localhost:8080/",
          "height": 153
        },
        "outputId": "9b0598c0-f937-4503-d9a7-fdcbdc605acc"
      },
      "source": [
        "anime.isna().sum()"
      ],
      "execution_count": 9,
      "outputs": [
        {
          "output_type": "execute_result",
          "data": {
            "text/plain": [
              "anime_id      0\n",
              "name          0\n",
              "genre        62\n",
              "type         25\n",
              "episodes      0\n",
              "rating      230\n",
              "members       0\n",
              "dtype: int64"
            ]
          },
          "metadata": {
            "tags": []
          },
          "execution_count": 9
        }
      ]
    },
    {
      "cell_type": "code",
      "metadata": {
        "id": "WbrZjp-6yyrs",
        "colab_type": "code",
        "colab": {
          "base_uri": "https://localhost:8080/",
          "height": 102
        },
        "outputId": "2fc7304e-4b47-418f-c041-64779649fa4c"
      },
      "source": [
        "anime.episodes.describe()"
      ],
      "execution_count": 10,
      "outputs": [
        {
          "output_type": "execute_result",
          "data": {
            "text/plain": [
              "count     12294\n",
              "unique      187\n",
              "top           1\n",
              "freq       5677\n",
              "Name: episodes, dtype: object"
            ]
          },
          "metadata": {
            "tags": []
          },
          "execution_count": 10
        }
      ]
    },
    {
      "cell_type": "markdown",
      "metadata": {
        "id": "nYdfrFaae7XB",
        "colab_type": "text"
      },
      "source": [
        "## Let's call all the 'Unknowns' and see where they are "
      ]
    },
    {
      "cell_type": "code",
      "metadata": {
        "id": "nmAQX5YT95XJ",
        "colab_type": "code",
        "colab": {
          "base_uri": "https://localhost:8080/",
          "height": 204
        },
        "outputId": "f26884b2-fd2b-4f47-d635-4c960c102eed"
      },
      "source": [
        "# Look at the unknowns in episodes\n",
        "\n",
        "anime[anime['episodes']=='Unknown'].head()"
      ],
      "execution_count": 11,
      "outputs": [
        {
          "output_type": "execute_result",
          "data": {
            "text/html": [
              "<div>\n",
              "<style scoped>\n",
              "    .dataframe tbody tr th:only-of-type {\n",
              "        vertical-align: middle;\n",
              "    }\n",
              "\n",
              "    .dataframe tbody tr th {\n",
              "        vertical-align: top;\n",
              "    }\n",
              "\n",
              "    .dataframe thead th {\n",
              "        text-align: right;\n",
              "    }\n",
              "</style>\n",
              "<table border=\"1\" class=\"dataframe\">\n",
              "  <thead>\n",
              "    <tr style=\"text-align: right;\">\n",
              "      <th></th>\n",
              "      <th>anime_id</th>\n",
              "      <th>name</th>\n",
              "      <th>genre</th>\n",
              "      <th>type</th>\n",
              "      <th>episodes</th>\n",
              "      <th>rating</th>\n",
              "      <th>members</th>\n",
              "    </tr>\n",
              "  </thead>\n",
              "  <tbody>\n",
              "    <tr>\n",
              "      <th>74</th>\n",
              "      <td>21</td>\n",
              "      <td>One Piece</td>\n",
              "      <td>Action, Adventure, Comedy, Drama, Fantasy, Sho...</td>\n",
              "      <td>TV</td>\n",
              "      <td>Unknown</td>\n",
              "      <td>8.58</td>\n",
              "      <td>504862</td>\n",
              "    </tr>\n",
              "    <tr>\n",
              "      <th>252</th>\n",
              "      <td>235</td>\n",
              "      <td>Detective Conan</td>\n",
              "      <td>Adventure, Comedy, Mystery, Police, Shounen</td>\n",
              "      <td>TV</td>\n",
              "      <td>Unknown</td>\n",
              "      <td>8.25</td>\n",
              "      <td>114702</td>\n",
              "    </tr>\n",
              "    <tr>\n",
              "      <th>615</th>\n",
              "      <td>1735</td>\n",
              "      <td>Naruto: Shippuuden</td>\n",
              "      <td>Action, Comedy, Martial Arts, Shounen, Super P...</td>\n",
              "      <td>TV</td>\n",
              "      <td>Unknown</td>\n",
              "      <td>7.94</td>\n",
              "      <td>533578</td>\n",
              "    </tr>\n",
              "    <tr>\n",
              "      <th>991</th>\n",
              "      <td>966</td>\n",
              "      <td>Crayon Shin-chan</td>\n",
              "      <td>Comedy, Ecchi, Kids, School, Shounen, Slice of...</td>\n",
              "      <td>TV</td>\n",
              "      <td>Unknown</td>\n",
              "      <td>7.73</td>\n",
              "      <td>26267</td>\n",
              "    </tr>\n",
              "    <tr>\n",
              "      <th>1021</th>\n",
              "      <td>33157</td>\n",
              "      <td>Tanaka-kun wa Itsumo Kedaruge Specials</td>\n",
              "      <td>Comedy, School, Slice of Life</td>\n",
              "      <td>Special</td>\n",
              "      <td>Unknown</td>\n",
              "      <td>7.72</td>\n",
              "      <td>5400</td>\n",
              "    </tr>\n",
              "  </tbody>\n",
              "</table>\n",
              "</div>"
            ],
            "text/plain": [
              "      anime_id                                    name  ... rating members\n",
              "74          21                               One Piece  ...   8.58  504862\n",
              "252        235                         Detective Conan  ...   8.25  114702\n",
              "615       1735                      Naruto: Shippuuden  ...   7.94  533578\n",
              "991        966                        Crayon Shin-chan  ...   7.73   26267\n",
              "1021     33157  Tanaka-kun wa Itsumo Kedaruge Specials  ...   7.72    5400\n",
              "\n",
              "[5 rows x 7 columns]"
            ]
          },
          "metadata": {
            "tags": []
          },
          "execution_count": 11
        }
      ]
    },
    {
      "cell_type": "markdown",
      "metadata": {
        "id": "DkPiBdNz-ARM",
        "colab_type": "text"
      },
      "source": [
        "## A lot of these 'Unknown' is because the anime is still running. They don't have an episode count because they are not finished yet.  TV unknown: most likely ongoing. Special: unknown, maybe a one-off. ONA: are released for the net and can have many episodes, OVA: are released for home video and are often 1-3 episodes. Hentai are usually 1 episode unless they are a series. For the sake of data these should all be 1 or the median."
      ]
    },
    {
      "cell_type": "code",
      "metadata": {
        "id": "_p9pe6ZtBtGi",
        "colab_type": "code",
        "colab": {}
      },
      "source": [
        "# Change some of the unknowns\n",
        "\n",
        "anime.loc[(anime['genre']=='Hentai') & (anime['episodes']=='Unknown'),'episodes'] = '1'\n",
        "anime.loc[(anime['type']=='OVA') & (anime['episodes']=='Unknown'),'episodes'] = '1'\n",
        "anime.loc[(anime['type'] == 'Movie') & (anime['episodes'] == 'Unknown'), 'episodes'] = '1'"
      ],
      "execution_count": 0,
      "outputs": []
    },
    {
      "cell_type": "code",
      "metadata": {
        "id": "nqjig0iCDHpw",
        "colab_type": "code",
        "colab": {}
      },
      "source": [
        "# Some anime I know the episode count, so I can input them myself\n",
        "\n",
        "familiar_animes = {'Berserk (2017)':24, 'Naruto Shippuuden':500, 'One Piece':892,'Detective Conan':864, 'Dragon Ball Super':86,\n",
        "                'Crayon Shin chan':942, 'Yu Gi Oh Arc V':148,'Shingeki no Kyojin Season 2':12,\n",
        "                'Boku no Hero Academia 2nd Season':25,'Little Witch Academia TV':25}"
      ],
      "execution_count": 0,
      "outputs": []
    },
    {
      "cell_type": "markdown",
      "metadata": {
        "id": "sJx1nDk8fxap",
        "colab_type": "text"
      },
      "source": [
        "## Now we assign the episode counts to their respective anime "
      ]
    },
    {
      "cell_type": "code",
      "metadata": {
        "id": "lSwJTeQYF-VF",
        "colab_type": "code",
        "colab": {}
      },
      "source": [
        "# add the episodes I know into the list \n",
        "\n",
        "for n,e in familiar_animes.items():    \n",
        "    anime.loc[anime['name']==n,'episodes'] = e"
      ],
      "execution_count": 0,
      "outputs": []
    },
    {
      "cell_type": "code",
      "metadata": {
        "id": "SME8ltGAGUQ1",
        "colab_type": "code",
        "colab": {}
      },
      "source": [
        "# For the rest of the unknowns we convert them to NA values \n",
        "anime['episodes'] = anime['episodes'].map(lambda x:np.nan if x=='Unknown' else x)"
      ],
      "execution_count": 0,
      "outputs": []
    },
    {
      "cell_type": "code",
      "metadata": {
        "id": "wi07_HFbGfht",
        "colab_type": "code",
        "colab": {}
      },
      "source": [
        "# These NA values are not much easier to change to the median\n",
        "anime['episodes'].fillna(anime['episodes'].median(),inplace = True)"
      ],
      "execution_count": 0,
      "outputs": []
    },
    {
      "cell_type": "markdown",
      "metadata": {
        "id": "hedqyKftgIkw",
        "colab_type": "text"
      },
      "source": [
        "## Now that we have changed the unknown values, the call for unknowns returns empty! "
      ]
    },
    {
      "cell_type": "code",
      "metadata": {
        "id": "iSNQApK2GsYw",
        "colab_type": "code",
        "colab": {
          "base_uri": "https://localhost:8080/",
          "height": 49
        },
        "outputId": "08c725c3-e97e-459b-d060-015427e99608"
      },
      "source": [
        "# episode 'unknowns' are gone now\n",
        "anime[anime['episodes']=='Unknown'].head(10)"
      ],
      "execution_count": 17,
      "outputs": [
        {
          "output_type": "execute_result",
          "data": {
            "text/html": [
              "<div>\n",
              "<style scoped>\n",
              "    .dataframe tbody tr th:only-of-type {\n",
              "        vertical-align: middle;\n",
              "    }\n",
              "\n",
              "    .dataframe tbody tr th {\n",
              "        vertical-align: top;\n",
              "    }\n",
              "\n",
              "    .dataframe thead th {\n",
              "        text-align: right;\n",
              "    }\n",
              "</style>\n",
              "<table border=\"1\" class=\"dataframe\">\n",
              "  <thead>\n",
              "    <tr style=\"text-align: right;\">\n",
              "      <th></th>\n",
              "      <th>anime_id</th>\n",
              "      <th>name</th>\n",
              "      <th>genre</th>\n",
              "      <th>type</th>\n",
              "      <th>episodes</th>\n",
              "      <th>rating</th>\n",
              "      <th>members</th>\n",
              "    </tr>\n",
              "  </thead>\n",
              "  <tbody>\n",
              "  </tbody>\n",
              "</table>\n",
              "</div>"
            ],
            "text/plain": [
              "Empty DataFrame\n",
              "Columns: [anime_id, name, genre, type, episodes, rating, members]\n",
              "Index: []"
            ]
          },
          "metadata": {
            "tags": []
          },
          "execution_count": 17
        }
      ]
    },
    {
      "cell_type": "markdown",
      "metadata": {
        "id": "aQbEUfXkgXaZ",
        "colab_type": "text"
      },
      "source": [
        "## To make the data easier to deal with, and graph, all numbers should be converted to floats."
      ]
    },
    {
      "cell_type": "code",
      "metadata": {
        "id": "KRGGNFsRail5",
        "colab_type": "code",
        "colab": {}
      },
      "source": [
        "# convert all numbers and integers to floating numbers, fill NA in ratings with median \n",
        "anime[\"rating\"] = anime[\"rating\"].astype(float)\n",
        "anime[\"members\"] = anime[\"members\"].astype(float)\n",
        "anime[\"episodes\"] = anime[\"episodes\"].astype(float)\n",
        "anime[\"rating\"].fillna(anime[\"rating\"].median(),inplace = True)\n"
      ],
      "execution_count": 0,
      "outputs": []
    },
    {
      "cell_type": "markdown",
      "metadata": {
        "id": "RqlZJNH3gwi3",
        "colab_type": "text"
      },
      "source": [
        "## The data is large, and not easy to visualize like this. Now we take steps to reduce it's dimensionality."
      ]
    },
    {
      "cell_type": "code",
      "metadata": {
        "id": "k4q2Yi6PbG3-",
        "colab_type": "code",
        "colab": {
          "base_uri": "https://localhost:8080/",
          "height": 287
        },
        "outputId": "f1de0628-b0af-4c89-99fe-abfc71d82072"
      },
      "source": [
        "# Put the data together while seperating some of the clustered columns like type. \n",
        "\n",
        "anime_sets = pd.concat([anime[\"genre\"].str.get_dummies(sep=\",\"),\n",
        "                            pd.get_dummies(anime[[\"type\"]]),\n",
        "                            anime[[\"rating\"]],anime[[\"members\"]],anime[\"episodes\"]],axis=1)\n",
        "\n",
        "anime_sets.head()"
      ],
      "execution_count": 19,
      "outputs": [
        {
          "output_type": "execute_result",
          "data": {
            "text/html": [
              "<div>\n",
              "<style scoped>\n",
              "    .dataframe tbody tr th:only-of-type {\n",
              "        vertical-align: middle;\n",
              "    }\n",
              "\n",
              "    .dataframe tbody tr th {\n",
              "        vertical-align: top;\n",
              "    }\n",
              "\n",
              "    .dataframe thead th {\n",
              "        text-align: right;\n",
              "    }\n",
              "</style>\n",
              "<table border=\"1\" class=\"dataframe\">\n",
              "  <thead>\n",
              "    <tr style=\"text-align: right;\">\n",
              "      <th></th>\n",
              "      <th>Adventure</th>\n",
              "      <th>Cars</th>\n",
              "      <th>Comedy</th>\n",
              "      <th>Dementia</th>\n",
              "      <th>Demons</th>\n",
              "      <th>Drama</th>\n",
              "      <th>Ecchi</th>\n",
              "      <th>Fantasy</th>\n",
              "      <th>Game</th>\n",
              "      <th>Harem</th>\n",
              "      <th>Hentai</th>\n",
              "      <th>Historical</th>\n",
              "      <th>Horror</th>\n",
              "      <th>Josei</th>\n",
              "      <th>Kids</th>\n",
              "      <th>Magic</th>\n",
              "      <th>Martial Arts</th>\n",
              "      <th>Mecha</th>\n",
              "      <th>Military</th>\n",
              "      <th>Music</th>\n",
              "      <th>Mystery</th>\n",
              "      <th>Parody</th>\n",
              "      <th>Police</th>\n",
              "      <th>Psychological</th>\n",
              "      <th>Romance</th>\n",
              "      <th>Samurai</th>\n",
              "      <th>School</th>\n",
              "      <th>Sci-Fi</th>\n",
              "      <th>Seinen</th>\n",
              "      <th>Shoujo</th>\n",
              "      <th>Shoujo Ai</th>\n",
              "      <th>Shounen</th>\n",
              "      <th>Shounen Ai</th>\n",
              "      <th>Slice of Life</th>\n",
              "      <th>Space</th>\n",
              "      <th>Sports</th>\n",
              "      <th>Super Power</th>\n",
              "      <th>Supernatural</th>\n",
              "      <th>Thriller</th>\n",
              "      <th>Vampire</th>\n",
              "      <th>...</th>\n",
              "      <th>Game</th>\n",
              "      <th>Harem</th>\n",
              "      <th>Hentai</th>\n",
              "      <th>Historical</th>\n",
              "      <th>Horror</th>\n",
              "      <th>Josei</th>\n",
              "      <th>Kids</th>\n",
              "      <th>Magic</th>\n",
              "      <th>Martial Arts</th>\n",
              "      <th>Mecha</th>\n",
              "      <th>Military</th>\n",
              "      <th>Music</th>\n",
              "      <th>Mystery</th>\n",
              "      <th>Parody</th>\n",
              "      <th>Police</th>\n",
              "      <th>Psychological</th>\n",
              "      <th>Romance</th>\n",
              "      <th>Samurai</th>\n",
              "      <th>School</th>\n",
              "      <th>Sci-Fi</th>\n",
              "      <th>Seinen</th>\n",
              "      <th>Shoujo</th>\n",
              "      <th>Shounen</th>\n",
              "      <th>Slice of Life</th>\n",
              "      <th>Space</th>\n",
              "      <th>Sports</th>\n",
              "      <th>Super Power</th>\n",
              "      <th>Supernatural</th>\n",
              "      <th>Thriller</th>\n",
              "      <th>Vampire</th>\n",
              "      <th>Yaoi</th>\n",
              "      <th>type_Movie</th>\n",
              "      <th>type_Music</th>\n",
              "      <th>type_ONA</th>\n",
              "      <th>type_OVA</th>\n",
              "      <th>type_Special</th>\n",
              "      <th>type_TV</th>\n",
              "      <th>rating</th>\n",
              "      <th>members</th>\n",
              "      <th>episodes</th>\n",
              "    </tr>\n",
              "  </thead>\n",
              "  <tbody>\n",
              "    <tr>\n",
              "      <th>0</th>\n",
              "      <td>0</td>\n",
              "      <td>0</td>\n",
              "      <td>0</td>\n",
              "      <td>0</td>\n",
              "      <td>0</td>\n",
              "      <td>0</td>\n",
              "      <td>0</td>\n",
              "      <td>0</td>\n",
              "      <td>0</td>\n",
              "      <td>0</td>\n",
              "      <td>0</td>\n",
              "      <td>0</td>\n",
              "      <td>0</td>\n",
              "      <td>0</td>\n",
              "      <td>0</td>\n",
              "      <td>0</td>\n",
              "      <td>0</td>\n",
              "      <td>0</td>\n",
              "      <td>0</td>\n",
              "      <td>0</td>\n",
              "      <td>0</td>\n",
              "      <td>0</td>\n",
              "      <td>0</td>\n",
              "      <td>0</td>\n",
              "      <td>1</td>\n",
              "      <td>0</td>\n",
              "      <td>1</td>\n",
              "      <td>0</td>\n",
              "      <td>0</td>\n",
              "      <td>0</td>\n",
              "      <td>0</td>\n",
              "      <td>0</td>\n",
              "      <td>0</td>\n",
              "      <td>0</td>\n",
              "      <td>0</td>\n",
              "      <td>0</td>\n",
              "      <td>0</td>\n",
              "      <td>1</td>\n",
              "      <td>0</td>\n",
              "      <td>0</td>\n",
              "      <td>...</td>\n",
              "      <td>0</td>\n",
              "      <td>0</td>\n",
              "      <td>0</td>\n",
              "      <td>0</td>\n",
              "      <td>0</td>\n",
              "      <td>0</td>\n",
              "      <td>0</td>\n",
              "      <td>0</td>\n",
              "      <td>0</td>\n",
              "      <td>0</td>\n",
              "      <td>0</td>\n",
              "      <td>0</td>\n",
              "      <td>0</td>\n",
              "      <td>0</td>\n",
              "      <td>0</td>\n",
              "      <td>0</td>\n",
              "      <td>0</td>\n",
              "      <td>0</td>\n",
              "      <td>0</td>\n",
              "      <td>0</td>\n",
              "      <td>0</td>\n",
              "      <td>0</td>\n",
              "      <td>0</td>\n",
              "      <td>0</td>\n",
              "      <td>0</td>\n",
              "      <td>0</td>\n",
              "      <td>0</td>\n",
              "      <td>0</td>\n",
              "      <td>0</td>\n",
              "      <td>0</td>\n",
              "      <td>0</td>\n",
              "      <td>1</td>\n",
              "      <td>0</td>\n",
              "      <td>0</td>\n",
              "      <td>0</td>\n",
              "      <td>0</td>\n",
              "      <td>0</td>\n",
              "      <td>9.37</td>\n",
              "      <td>200630.0</td>\n",
              "      <td>1.0</td>\n",
              "    </tr>\n",
              "    <tr>\n",
              "      <th>1</th>\n",
              "      <td>1</td>\n",
              "      <td>0</td>\n",
              "      <td>0</td>\n",
              "      <td>0</td>\n",
              "      <td>0</td>\n",
              "      <td>1</td>\n",
              "      <td>0</td>\n",
              "      <td>1</td>\n",
              "      <td>0</td>\n",
              "      <td>0</td>\n",
              "      <td>0</td>\n",
              "      <td>0</td>\n",
              "      <td>0</td>\n",
              "      <td>0</td>\n",
              "      <td>0</td>\n",
              "      <td>1</td>\n",
              "      <td>0</td>\n",
              "      <td>0</td>\n",
              "      <td>1</td>\n",
              "      <td>0</td>\n",
              "      <td>0</td>\n",
              "      <td>0</td>\n",
              "      <td>0</td>\n",
              "      <td>0</td>\n",
              "      <td>0</td>\n",
              "      <td>0</td>\n",
              "      <td>0</td>\n",
              "      <td>0</td>\n",
              "      <td>0</td>\n",
              "      <td>0</td>\n",
              "      <td>0</td>\n",
              "      <td>1</td>\n",
              "      <td>0</td>\n",
              "      <td>0</td>\n",
              "      <td>0</td>\n",
              "      <td>0</td>\n",
              "      <td>0</td>\n",
              "      <td>0</td>\n",
              "      <td>0</td>\n",
              "      <td>0</td>\n",
              "      <td>...</td>\n",
              "      <td>0</td>\n",
              "      <td>0</td>\n",
              "      <td>0</td>\n",
              "      <td>0</td>\n",
              "      <td>0</td>\n",
              "      <td>0</td>\n",
              "      <td>0</td>\n",
              "      <td>0</td>\n",
              "      <td>0</td>\n",
              "      <td>0</td>\n",
              "      <td>0</td>\n",
              "      <td>0</td>\n",
              "      <td>0</td>\n",
              "      <td>0</td>\n",
              "      <td>0</td>\n",
              "      <td>0</td>\n",
              "      <td>0</td>\n",
              "      <td>0</td>\n",
              "      <td>0</td>\n",
              "      <td>0</td>\n",
              "      <td>0</td>\n",
              "      <td>0</td>\n",
              "      <td>0</td>\n",
              "      <td>0</td>\n",
              "      <td>0</td>\n",
              "      <td>0</td>\n",
              "      <td>0</td>\n",
              "      <td>0</td>\n",
              "      <td>0</td>\n",
              "      <td>0</td>\n",
              "      <td>0</td>\n",
              "      <td>0</td>\n",
              "      <td>0</td>\n",
              "      <td>0</td>\n",
              "      <td>0</td>\n",
              "      <td>0</td>\n",
              "      <td>1</td>\n",
              "      <td>9.26</td>\n",
              "      <td>793665.0</td>\n",
              "      <td>64.0</td>\n",
              "    </tr>\n",
              "    <tr>\n",
              "      <th>2</th>\n",
              "      <td>0</td>\n",
              "      <td>0</td>\n",
              "      <td>1</td>\n",
              "      <td>0</td>\n",
              "      <td>0</td>\n",
              "      <td>0</td>\n",
              "      <td>0</td>\n",
              "      <td>0</td>\n",
              "      <td>0</td>\n",
              "      <td>0</td>\n",
              "      <td>0</td>\n",
              "      <td>1</td>\n",
              "      <td>0</td>\n",
              "      <td>0</td>\n",
              "      <td>0</td>\n",
              "      <td>0</td>\n",
              "      <td>0</td>\n",
              "      <td>0</td>\n",
              "      <td>0</td>\n",
              "      <td>0</td>\n",
              "      <td>0</td>\n",
              "      <td>1</td>\n",
              "      <td>0</td>\n",
              "      <td>0</td>\n",
              "      <td>0</td>\n",
              "      <td>1</td>\n",
              "      <td>0</td>\n",
              "      <td>1</td>\n",
              "      <td>0</td>\n",
              "      <td>0</td>\n",
              "      <td>0</td>\n",
              "      <td>1</td>\n",
              "      <td>0</td>\n",
              "      <td>0</td>\n",
              "      <td>0</td>\n",
              "      <td>0</td>\n",
              "      <td>0</td>\n",
              "      <td>0</td>\n",
              "      <td>0</td>\n",
              "      <td>0</td>\n",
              "      <td>...</td>\n",
              "      <td>0</td>\n",
              "      <td>0</td>\n",
              "      <td>0</td>\n",
              "      <td>0</td>\n",
              "      <td>0</td>\n",
              "      <td>0</td>\n",
              "      <td>0</td>\n",
              "      <td>0</td>\n",
              "      <td>0</td>\n",
              "      <td>0</td>\n",
              "      <td>0</td>\n",
              "      <td>0</td>\n",
              "      <td>0</td>\n",
              "      <td>0</td>\n",
              "      <td>0</td>\n",
              "      <td>0</td>\n",
              "      <td>0</td>\n",
              "      <td>0</td>\n",
              "      <td>0</td>\n",
              "      <td>0</td>\n",
              "      <td>0</td>\n",
              "      <td>0</td>\n",
              "      <td>0</td>\n",
              "      <td>0</td>\n",
              "      <td>0</td>\n",
              "      <td>0</td>\n",
              "      <td>0</td>\n",
              "      <td>0</td>\n",
              "      <td>0</td>\n",
              "      <td>0</td>\n",
              "      <td>0</td>\n",
              "      <td>0</td>\n",
              "      <td>0</td>\n",
              "      <td>0</td>\n",
              "      <td>0</td>\n",
              "      <td>0</td>\n",
              "      <td>1</td>\n",
              "      <td>9.25</td>\n",
              "      <td>114262.0</td>\n",
              "      <td>51.0</td>\n",
              "    </tr>\n",
              "    <tr>\n",
              "      <th>3</th>\n",
              "      <td>0</td>\n",
              "      <td>0</td>\n",
              "      <td>0</td>\n",
              "      <td>0</td>\n",
              "      <td>0</td>\n",
              "      <td>0</td>\n",
              "      <td>0</td>\n",
              "      <td>0</td>\n",
              "      <td>0</td>\n",
              "      <td>0</td>\n",
              "      <td>0</td>\n",
              "      <td>0</td>\n",
              "      <td>0</td>\n",
              "      <td>0</td>\n",
              "      <td>0</td>\n",
              "      <td>0</td>\n",
              "      <td>0</td>\n",
              "      <td>0</td>\n",
              "      <td>0</td>\n",
              "      <td>0</td>\n",
              "      <td>0</td>\n",
              "      <td>0</td>\n",
              "      <td>0</td>\n",
              "      <td>0</td>\n",
              "      <td>0</td>\n",
              "      <td>0</td>\n",
              "      <td>0</td>\n",
              "      <td>0</td>\n",
              "      <td>0</td>\n",
              "      <td>0</td>\n",
              "      <td>0</td>\n",
              "      <td>0</td>\n",
              "      <td>0</td>\n",
              "      <td>0</td>\n",
              "      <td>0</td>\n",
              "      <td>0</td>\n",
              "      <td>0</td>\n",
              "      <td>0</td>\n",
              "      <td>1</td>\n",
              "      <td>0</td>\n",
              "      <td>...</td>\n",
              "      <td>0</td>\n",
              "      <td>0</td>\n",
              "      <td>0</td>\n",
              "      <td>0</td>\n",
              "      <td>0</td>\n",
              "      <td>0</td>\n",
              "      <td>0</td>\n",
              "      <td>0</td>\n",
              "      <td>0</td>\n",
              "      <td>0</td>\n",
              "      <td>0</td>\n",
              "      <td>0</td>\n",
              "      <td>0</td>\n",
              "      <td>0</td>\n",
              "      <td>0</td>\n",
              "      <td>0</td>\n",
              "      <td>0</td>\n",
              "      <td>0</td>\n",
              "      <td>0</td>\n",
              "      <td>1</td>\n",
              "      <td>0</td>\n",
              "      <td>0</td>\n",
              "      <td>0</td>\n",
              "      <td>0</td>\n",
              "      <td>0</td>\n",
              "      <td>0</td>\n",
              "      <td>0</td>\n",
              "      <td>0</td>\n",
              "      <td>0</td>\n",
              "      <td>0</td>\n",
              "      <td>0</td>\n",
              "      <td>0</td>\n",
              "      <td>0</td>\n",
              "      <td>0</td>\n",
              "      <td>0</td>\n",
              "      <td>0</td>\n",
              "      <td>1</td>\n",
              "      <td>9.17</td>\n",
              "      <td>673572.0</td>\n",
              "      <td>24.0</td>\n",
              "    </tr>\n",
              "    <tr>\n",
              "      <th>4</th>\n",
              "      <td>0</td>\n",
              "      <td>0</td>\n",
              "      <td>1</td>\n",
              "      <td>0</td>\n",
              "      <td>0</td>\n",
              "      <td>0</td>\n",
              "      <td>0</td>\n",
              "      <td>0</td>\n",
              "      <td>0</td>\n",
              "      <td>0</td>\n",
              "      <td>0</td>\n",
              "      <td>1</td>\n",
              "      <td>0</td>\n",
              "      <td>0</td>\n",
              "      <td>0</td>\n",
              "      <td>0</td>\n",
              "      <td>0</td>\n",
              "      <td>0</td>\n",
              "      <td>0</td>\n",
              "      <td>0</td>\n",
              "      <td>0</td>\n",
              "      <td>1</td>\n",
              "      <td>0</td>\n",
              "      <td>0</td>\n",
              "      <td>0</td>\n",
              "      <td>1</td>\n",
              "      <td>0</td>\n",
              "      <td>1</td>\n",
              "      <td>0</td>\n",
              "      <td>0</td>\n",
              "      <td>0</td>\n",
              "      <td>1</td>\n",
              "      <td>0</td>\n",
              "      <td>0</td>\n",
              "      <td>0</td>\n",
              "      <td>0</td>\n",
              "      <td>0</td>\n",
              "      <td>0</td>\n",
              "      <td>0</td>\n",
              "      <td>0</td>\n",
              "      <td>...</td>\n",
              "      <td>0</td>\n",
              "      <td>0</td>\n",
              "      <td>0</td>\n",
              "      <td>0</td>\n",
              "      <td>0</td>\n",
              "      <td>0</td>\n",
              "      <td>0</td>\n",
              "      <td>0</td>\n",
              "      <td>0</td>\n",
              "      <td>0</td>\n",
              "      <td>0</td>\n",
              "      <td>0</td>\n",
              "      <td>0</td>\n",
              "      <td>0</td>\n",
              "      <td>0</td>\n",
              "      <td>0</td>\n",
              "      <td>0</td>\n",
              "      <td>0</td>\n",
              "      <td>0</td>\n",
              "      <td>0</td>\n",
              "      <td>0</td>\n",
              "      <td>0</td>\n",
              "      <td>0</td>\n",
              "      <td>0</td>\n",
              "      <td>0</td>\n",
              "      <td>0</td>\n",
              "      <td>0</td>\n",
              "      <td>0</td>\n",
              "      <td>0</td>\n",
              "      <td>0</td>\n",
              "      <td>0</td>\n",
              "      <td>0</td>\n",
              "      <td>0</td>\n",
              "      <td>0</td>\n",
              "      <td>0</td>\n",
              "      <td>0</td>\n",
              "      <td>1</td>\n",
              "      <td>9.16</td>\n",
              "      <td>151266.0</td>\n",
              "      <td>51.0</td>\n",
              "    </tr>\n",
              "  </tbody>\n",
              "</table>\n",
              "<p>5 rows × 91 columns</p>\n",
              "</div>"
            ],
            "text/plain": [
              "    Adventure   Cars   Comedy   Dementia  ...  type_TV  rating   members  episodes\n",
              "0           0      0        0          0  ...        0    9.37  200630.0       1.0\n",
              "1           1      0        0          0  ...        1    9.26  793665.0      64.0\n",
              "2           0      0        1          0  ...        1    9.25  114262.0      51.0\n",
              "3           0      0        0          0  ...        1    9.17  673572.0      24.0\n",
              "4           0      0        1          0  ...        1    9.16  151266.0      51.0\n",
              "\n",
              "[5 rows x 91 columns]"
            ]
          },
          "metadata": {
            "tags": []
          },
          "execution_count": 19
        }
      ]
    },
    {
      "cell_type": "code",
      "metadata": {
        "id": "WP0u8ip6T7Q9",
        "colab_type": "code",
        "colab": {
          "base_uri": "https://localhost:8080/",
          "height": 204
        },
        "outputId": "2037d1a8-451a-460d-eb5b-7149131df346"
      },
      "source": [
        "# Look at the data after the changes \n",
        "anime.head()"
      ],
      "execution_count": 20,
      "outputs": [
        {
          "output_type": "execute_result",
          "data": {
            "text/html": [
              "<div>\n",
              "<style scoped>\n",
              "    .dataframe tbody tr th:only-of-type {\n",
              "        vertical-align: middle;\n",
              "    }\n",
              "\n",
              "    .dataframe tbody tr th {\n",
              "        vertical-align: top;\n",
              "    }\n",
              "\n",
              "    .dataframe thead th {\n",
              "        text-align: right;\n",
              "    }\n",
              "</style>\n",
              "<table border=\"1\" class=\"dataframe\">\n",
              "  <thead>\n",
              "    <tr style=\"text-align: right;\">\n",
              "      <th></th>\n",
              "      <th>anime_id</th>\n",
              "      <th>name</th>\n",
              "      <th>genre</th>\n",
              "      <th>type</th>\n",
              "      <th>episodes</th>\n",
              "      <th>rating</th>\n",
              "      <th>members</th>\n",
              "    </tr>\n",
              "  </thead>\n",
              "  <tbody>\n",
              "    <tr>\n",
              "      <th>0</th>\n",
              "      <td>32281</td>\n",
              "      <td>Kimi no Na wa.</td>\n",
              "      <td>Drama, Romance, School, Supernatural</td>\n",
              "      <td>Movie</td>\n",
              "      <td>1.0</td>\n",
              "      <td>9.37</td>\n",
              "      <td>200630.0</td>\n",
              "    </tr>\n",
              "    <tr>\n",
              "      <th>1</th>\n",
              "      <td>5114</td>\n",
              "      <td>Fullmetal Alchemist: Brotherhood</td>\n",
              "      <td>Action, Adventure, Drama, Fantasy, Magic, Mili...</td>\n",
              "      <td>TV</td>\n",
              "      <td>64.0</td>\n",
              "      <td>9.26</td>\n",
              "      <td>793665.0</td>\n",
              "    </tr>\n",
              "    <tr>\n",
              "      <th>2</th>\n",
              "      <td>28977</td>\n",
              "      <td>Gintama°</td>\n",
              "      <td>Action, Comedy, Historical, Parody, Samurai, S...</td>\n",
              "      <td>TV</td>\n",
              "      <td>51.0</td>\n",
              "      <td>9.25</td>\n",
              "      <td>114262.0</td>\n",
              "    </tr>\n",
              "    <tr>\n",
              "      <th>3</th>\n",
              "      <td>9253</td>\n",
              "      <td>Steins;Gate</td>\n",
              "      <td>Sci-Fi, Thriller</td>\n",
              "      <td>TV</td>\n",
              "      <td>24.0</td>\n",
              "      <td>9.17</td>\n",
              "      <td>673572.0</td>\n",
              "    </tr>\n",
              "    <tr>\n",
              "      <th>4</th>\n",
              "      <td>9969</td>\n",
              "      <td>Gintama&amp;#039;</td>\n",
              "      <td>Action, Comedy, Historical, Parody, Samurai, S...</td>\n",
              "      <td>TV</td>\n",
              "      <td>51.0</td>\n",
              "      <td>9.16</td>\n",
              "      <td>151266.0</td>\n",
              "    </tr>\n",
              "  </tbody>\n",
              "</table>\n",
              "</div>"
            ],
            "text/plain": [
              "   anime_id                              name  ... rating   members\n",
              "0     32281                    Kimi no Na wa.  ...   9.37  200630.0\n",
              "1      5114  Fullmetal Alchemist: Brotherhood  ...   9.26  793665.0\n",
              "2     28977                          Gintama°  ...   9.25  114262.0\n",
              "3      9253                       Steins;Gate  ...   9.17  673572.0\n",
              "4      9969                     Gintama&#039;  ...   9.16  151266.0\n",
              "\n",
              "[5 rows x 7 columns]"
            ]
          },
          "metadata": {
            "tags": []
          },
          "execution_count": 20
        }
      ]
    },
    {
      "cell_type": "code",
      "metadata": {
        "id": "mvEYyoglIAf9",
        "colab_type": "code",
        "colab": {
          "base_uri": "https://localhost:8080/",
          "height": 297
        },
        "outputId": "01007a6c-cf2e-48f4-f8f6-06b03978aa71"
      },
      "source": [
        "anime.describe()"
      ],
      "execution_count": 21,
      "outputs": [
        {
          "output_type": "execute_result",
          "data": {
            "text/html": [
              "<div>\n",
              "<style scoped>\n",
              "    .dataframe tbody tr th:only-of-type {\n",
              "        vertical-align: middle;\n",
              "    }\n",
              "\n",
              "    .dataframe tbody tr th {\n",
              "        vertical-align: top;\n",
              "    }\n",
              "\n",
              "    .dataframe thead th {\n",
              "        text-align: right;\n",
              "    }\n",
              "</style>\n",
              "<table border=\"1\" class=\"dataframe\">\n",
              "  <thead>\n",
              "    <tr style=\"text-align: right;\">\n",
              "      <th></th>\n",
              "      <th>anime_id</th>\n",
              "      <th>episodes</th>\n",
              "      <th>rating</th>\n",
              "      <th>members</th>\n",
              "    </tr>\n",
              "  </thead>\n",
              "  <tbody>\n",
              "    <tr>\n",
              "      <th>count</th>\n",
              "      <td>12294.000000</td>\n",
              "      <td>12294.000000</td>\n",
              "      <td>12294.000000</td>\n",
              "      <td>1.229400e+04</td>\n",
              "    </tr>\n",
              "    <tr>\n",
              "      <th>mean</th>\n",
              "      <td>14058.221653</td>\n",
              "      <td>12.244835</td>\n",
              "      <td>6.475700</td>\n",
              "      <td>1.807134e+04</td>\n",
              "    </tr>\n",
              "    <tr>\n",
              "      <th>std</th>\n",
              "      <td>11455.294701</td>\n",
              "      <td>47.550206</td>\n",
              "      <td>1.017179</td>\n",
              "      <td>5.482068e+04</td>\n",
              "    </tr>\n",
              "    <tr>\n",
              "      <th>min</th>\n",
              "      <td>1.000000</td>\n",
              "      <td>1.000000</td>\n",
              "      <td>1.670000</td>\n",
              "      <td>5.000000e+00</td>\n",
              "    </tr>\n",
              "    <tr>\n",
              "      <th>25%</th>\n",
              "      <td>3484.250000</td>\n",
              "      <td>1.000000</td>\n",
              "      <td>5.900000</td>\n",
              "      <td>2.250000e+02</td>\n",
              "    </tr>\n",
              "    <tr>\n",
              "      <th>50%</th>\n",
              "      <td>10260.500000</td>\n",
              "      <td>2.000000</td>\n",
              "      <td>6.570000</td>\n",
              "      <td>1.550000e+03</td>\n",
              "    </tr>\n",
              "    <tr>\n",
              "      <th>75%</th>\n",
              "      <td>24794.500000</td>\n",
              "      <td>12.000000</td>\n",
              "      <td>7.170000</td>\n",
              "      <td>9.437000e+03</td>\n",
              "    </tr>\n",
              "    <tr>\n",
              "      <th>max</th>\n",
              "      <td>34527.000000</td>\n",
              "      <td>1818.000000</td>\n",
              "      <td>10.000000</td>\n",
              "      <td>1.013917e+06</td>\n",
              "    </tr>\n",
              "  </tbody>\n",
              "</table>\n",
              "</div>"
            ],
            "text/plain": [
              "           anime_id      episodes        rating       members\n",
              "count  12294.000000  12294.000000  12294.000000  1.229400e+04\n",
              "mean   14058.221653     12.244835      6.475700  1.807134e+04\n",
              "std    11455.294701     47.550206      1.017179  5.482068e+04\n",
              "min        1.000000      1.000000      1.670000  5.000000e+00\n",
              "25%     3484.250000      1.000000      5.900000  2.250000e+02\n",
              "50%    10260.500000      2.000000      6.570000  1.550000e+03\n",
              "75%    24794.500000     12.000000      7.170000  9.437000e+03\n",
              "max    34527.000000   1818.000000     10.000000  1.013917e+06"
            ]
          },
          "metadata": {
            "tags": []
          },
          "execution_count": 21
        }
      ]
    },
    {
      "cell_type": "code",
      "metadata": {
        "id": "uJZWGZ8oZSIQ",
        "colab_type": "code",
        "colab": {
          "base_uri": "https://localhost:8080/",
          "height": 306
        },
        "outputId": "a16e2deb-3b45-48c6-943d-30dd5b9b3665"
      },
      "source": [
        "# Look at the columns in the set just made \n",
        "anime_sets.columns\n",
        "\n"
      ],
      "execution_count": 22,
      "outputs": [
        {
          "output_type": "execute_result",
          "data": {
            "text/plain": [
              "Index([' Adventure', ' Cars', ' Comedy', ' Dementia', ' Demons', ' Drama',\n",
              "       ' Ecchi', ' Fantasy', ' Game', ' Harem', ' Hentai', ' Historical',\n",
              "       ' Horror', ' Josei', ' Kids', ' Magic', ' Martial Arts', ' Mecha',\n",
              "       ' Military', ' Music', ' Mystery', ' Parody', ' Police',\n",
              "       ' Psychological', ' Romance', ' Samurai', ' School', ' Sci-Fi',\n",
              "       ' Seinen', ' Shoujo', ' Shoujo Ai', ' Shounen', ' Shounen Ai',\n",
              "       ' Slice of Life', ' Space', ' Sports', ' Super Power', ' Supernatural',\n",
              "       ' Thriller', ' Vampire', ' Yaoi', ' Yuri', 'Action', 'Adventure',\n",
              "       'Cars', 'Comedy', 'Dementia', 'Demons', 'Drama', 'Ecchi', 'Fantasy',\n",
              "       'Game', 'Harem', 'Hentai', 'Historical', 'Horror', 'Josei', 'Kids',\n",
              "       'Magic', 'Martial Arts', 'Mecha', 'Military', 'Music', 'Mystery',\n",
              "       'Parody', 'Police', 'Psychological', 'Romance', 'Samurai', 'School',\n",
              "       'Sci-Fi', 'Seinen', 'Shoujo', 'Shounen', 'Slice of Life', 'Space',\n",
              "       'Sports', 'Super Power', 'Supernatural', 'Thriller', 'Vampire', 'Yaoi',\n",
              "       'type_Movie', 'type_Music', 'type_ONA', 'type_OVA', 'type_Special',\n",
              "       'type_TV', 'rating', 'members', 'episodes'],\n",
              "      dtype='object')"
            ]
          },
          "metadata": {
            "tags": []
          },
          "execution_count": 22
        }
      ]
    },
    {
      "cell_type": "markdown",
      "metadata": {
        "id": "dn8PR_7vhnfJ",
        "colab_type": "text"
      },
      "source": [
        "## Now we use sklearn's preprocessing to minimize and scale the data "
      ]
    },
    {
      "cell_type": "code",
      "metadata": {
        "id": "zvEQvNmRU32K",
        "colab_type": "code",
        "colab": {}
      },
      "source": [
        "from sklearn.preprocessing import MinMaxScaler"
      ],
      "execution_count": 0,
      "outputs": []
    },
    {
      "cell_type": "code",
      "metadata": {
        "id": "7VZRQc8EU6TN",
        "colab_type": "code",
        "colab": {}
      },
      "source": [
        "min_max_scaler = MinMaxScaler()\n",
        "anime_sets = min_max_scaler.fit_transform(anime_sets)"
      ],
      "execution_count": 0,
      "outputs": []
    },
    {
      "cell_type": "code",
      "metadata": {
        "id": "elQ-bVTdVKDx",
        "colab_type": "code",
        "colab": {
          "base_uri": "https://localhost:8080/",
          "height": 136
        },
        "outputId": "591deff8-a356-40bb-87b5-d6f4d6920a7b"
      },
      "source": [
        "# numpy.round rounds the array we're making to the decimal we choose, 2\n",
        "np.round(anime_sets,2)"
      ],
      "execution_count": 25,
      "outputs": [
        {
          "output_type": "execute_result",
          "data": {
            "text/plain": [
              "array([[0.  , 0.  , 0.  , ..., 0.92, 0.2 , 0.  ],\n",
              "       [1.  , 0.  , 0.  , ..., 0.91, 0.78, 0.03],\n",
              "       [0.  , 0.  , 1.  , ..., 0.91, 0.11, 0.03],\n",
              "       ...,\n",
              "       [0.  , 0.  , 0.  , ..., 0.39, 0.  , 0.  ],\n",
              "       [0.  , 0.  , 0.  , ..., 0.4 , 0.  , 0.  ],\n",
              "       [0.  , 0.  , 0.  , ..., 0.45, 0.  , 0.  ]])"
            ]
          },
          "metadata": {
            "tags": []
          },
          "execution_count": 25
        }
      ]
    },
    {
      "cell_type": "markdown",
      "metadata": {
        "id": "v1Td039iigCm",
        "colab_type": "text"
      },
      "source": [
        "## Now we will use K-Nearest Neighbor to fit the data, (class sklearn.neighbors.BallTree, BallTree for fast generalized N-point problems) "
      ]
    },
    {
      "cell_type": "code",
      "metadata": {
        "id": "2JATQ7NaVR_a",
        "colab_type": "code",
        "colab": {}
      },
      "source": [
        "# fit to nearest neighbor \n",
        "\n",
        "from sklearn.neighbors import NearestNeighbors"
      ],
      "execution_count": 0,
      "outputs": []
    },
    {
      "cell_type": "code",
      "metadata": {
        "id": "UJCPM8iTVUyy",
        "colab_type": "code",
        "colab": {}
      },
      "source": [
        "neighbor = NearestNeighbors(n_neighbors=6, algorithm='ball_tree').fit(anime_sets)"
      ],
      "execution_count": 0,
      "outputs": []
    },
    {
      "cell_type": "code",
      "metadata": {
        "id": "dDgj7A4jVmNa",
        "colab_type": "code",
        "colab": {}
      },
      "source": [
        "distances, indices = neighbor.kneighbors(anime_sets)"
      ],
      "execution_count": 0,
      "outputs": []
    },
    {
      "cell_type": "markdown",
      "metadata": {
        "id": "7v0MMMSWmek0",
        "colab_type": "text"
      },
      "source": [
        "## Now we can start writing some of the exciting functions of this data: Get ID, Get Index, Similar Animes"
      ]
    },
    {
      "cell_type": "code",
      "metadata": {
        "id": "H7RUnAn0Vylo",
        "colab_type": "code",
        "colab": {}
      },
      "source": [
        "# get index from name \n",
        "\n",
        "def get_index_from_name(name):\n",
        "    return anime[anime['name']==name].index.tolist()[0]"
      ],
      "execution_count": 0,
      "outputs": []
    },
    {
      "cell_type": "code",
      "metadata": {
        "id": "RFKZfeKNWMvX",
        "colab_type": "code",
        "colab": {}
      },
      "source": [
        "# Put all the names into one variable\n",
        "\n",
        "all_anime_names = list(anime.name.values)"
      ],
      "execution_count": 0,
      "outputs": []
    },
    {
      "cell_type": "code",
      "metadata": {
        "id": "CaGBZHR9WP0Q",
        "colab_type": "code",
        "colab": {}
      },
      "source": [
        "# get ID from name partials\n",
        "\n",
        "def get_id_from_partial_name(partial):\n",
        "    for name in all_anime_names:\n",
        "        if partial in name:\n",
        "            print(name,all_anime_names.index(name))"
      ],
      "execution_count": 0,
      "outputs": []
    },
    {
      "cell_type": "code",
      "metadata": {
        "id": "3nlndjnTWXoF",
        "colab_type": "code",
        "colab": {}
      },
      "source": [
        "# print similar animes using ID and Name \n",
        "\n",
        "def print_similar_animes(query=None,id=None):\n",
        "    if id:\n",
        "        for id in indices[id][1:]:\n",
        "            print(anime.loc[id]['name'])\n",
        "    if query:\n",
        "        found_id = get_index_from_name(query)\n",
        "        for id in indices[found_id][1:]:\n",
        "            print(anime.loc[id]['name'])"
      ],
      "execution_count": 0,
      "outputs": []
    },
    {
      "cell_type": "markdown",
      "metadata": {
        "id": "ZGdei2uWnf4P",
        "colab_type": "text"
      },
      "source": [
        "## Let's test our recommendation and finding functions "
      ]
    },
    {
      "cell_type": "code",
      "metadata": {
        "id": "DHLKDF1LWkLy",
        "colab_type": "code",
        "colab": {
          "base_uri": "https://localhost:8080/",
          "height": 102
        },
        "outputId": "c70b932b-b0ab-4a50-c6f0-f10a9dd185dd"
      },
      "source": [
        "# test it\n",
        "# Get anime similar to the one you like or watched \n",
        "\n",
        "print_similar_animes(query=\"Hellsing\");"
      ],
      "execution_count": 34,
      "outputs": [
        {
          "output_type": "stream",
          "text": [
            "Ajin\n",
            "Dance in the Vampire Bund\n",
            "Trinity Blood\n",
            "Blood-C\n",
            "Ajin 2nd Season\n"
          ],
          "name": "stdout"
        }
      ]
    },
    {
      "cell_type": "code",
      "metadata": {
        "id": "hYFEpd0aXBYC",
        "colab_type": "code",
        "colab": {
          "base_uri": "https://localhost:8080/",
          "height": 102
        },
        "outputId": "271a23c9-6be5-4da3-bfcd-32ed0d3958c3"
      },
      "source": [
        "print_similar_animes(\"Bleach\")"
      ],
      "execution_count": 35,
      "outputs": [
        {
          "output_type": "stream",
          "text": [
            "Katekyo Hitman Reborn!\n",
            "Code:Breaker\n",
            "Tokyo ESP\n",
            "Yozakura Quartet: Hana no Uta\n",
            "Yozakura Quartet\n"
          ],
          "name": "stdout"
        }
      ]
    },
    {
      "cell_type": "code",
      "metadata": {
        "id": "7h9IsZoFXI2R",
        "colab_type": "code",
        "colab": {
          "base_uri": "https://localhost:8080/",
          "height": 102
        },
        "outputId": "83c02c63-30d2-49d0-e605-0d9198993d21"
      },
      "source": [
        "print_similar_animes(\"Claymore\")"
      ],
      "execution_count": 36,
      "outputs": [
        {
          "output_type": "stream",
          "text": [
            "Ao no Exorcist\n",
            "Ao no Exorcist: Kyoto Fujouou-hen\n",
            "Nanatsu no Taizai\n",
            "Noragami Aragoto\n",
            "Kuroshitsuji II\n"
          ],
          "name": "stdout"
        }
      ]
    },
    {
      "cell_type": "code",
      "metadata": {
        "id": "iYFVv1IBXSz8",
        "colab_type": "code",
        "colab": {
          "base_uri": "https://localhost:8080/",
          "height": 442
        },
        "outputId": "b3ba8e91-68b7-4dd6-da59-18ad27d1e63d"
      },
      "source": [
        "# from partial name find the ID's from the list \n",
        "\n",
        "get_id_from_partial_name(\"Naruto\")"
      ],
      "execution_count": 37,
      "outputs": [
        {
          "output_type": "stream",
          "text": [
            "Boruto: Naruto the Movie 486\n",
            "Naruto: Shippuuden 615\n",
            "The Last: Naruto the Movie 719\n",
            "Naruto: Shippuuden Movie 6 - Road to Ninja 784\n",
            "Naruto 841\n",
            "Boruto: Naruto the Movie - Naruto ga Hokage ni Natta Hi 1103\n",
            "Naruto: Shippuuden Movie 5 - Blood Prison 1237\n",
            "Naruto x UT 1343\n",
            "Naruto: Shippuuden Movie 4 - The Lost Tower 1472\n",
            "Naruto: Shippuuden Movie 3 - Hi no Ishi wo Tsugu Mono 1573\n",
            "Naruto: Shippuuden Movie 1 1827\n",
            "Naruto: Shippuuden Movie 2 - Kizuna 1828\n",
            "Naruto Shippuuden: Shippuu! &quot;Konoha Gakuen&quot; Den 2374\n",
            "Naruto: Honoo no Chuunin Shiken! Naruto vs. Konohamaru!! 2416\n",
            "Naruto SD: Rock Lee no Seishun Full-Power Ninden 2457\n",
            "Naruto Shippuuden: Sunny Side Battle 2458\n",
            "Naruto Movie 1: Dai Katsugeki!! Yuki Hime Shinobu Houjou Dattebayo! 2756\n",
            "Naruto Soyokazeden Movie: Naruto to Mashin to Mitsu no Onegai Dattebayo!! 2997\n",
            "Naruto Movie 2: Dai Gekitotsu! Maboroshi no Chiteiiseki Dattebayo! 3449\n",
            "Naruto: Dai Katsugeki!! Yuki Hime Shinobu Houjou Dattebayo! Special: Konoha Annual Sports Festival 3529\n",
            "Naruto Movie 3: Dai Koufun! Mikazuki Jima no Animaru Panikku Dattebayo! 3560\n",
            "Naruto: The Cross Roads 3561\n",
            "Naruto Narutimate Hero 3: Tsuini Gekitotsu! Jounin vs. Genin!! Musabetsu Dairansen taikai Kaisai!! 3838\n",
            "Naruto: Takigakure no Shitou - Ore ga Eiyuu Dattebayo! 3984\n",
            "Naruto: Akaki Yotsuba no Clover wo Sagase 5111\n"
          ],
          "name": "stdout"
        }
      ]
    },
    {
      "cell_type": "code",
      "metadata": {
        "id": "GIxn9O1YXWwK",
        "colab_type": "code",
        "colab": {
          "base_uri": "https://localhost:8080/",
          "height": 51
        },
        "outputId": "c338f9a8-fdb8-4c77-d291-f9c9de59bde8"
      },
      "source": [
        "get_id_from_partial_name(\"Trigun\")"
      ],
      "execution_count": 38,
      "outputs": [
        {
          "output_type": "stream",
          "text": [
            "Trigun 214\n",
            "Trigun: Badlands Rumble 441\n"
          ],
          "name": "stdout"
        }
      ]
    },
    {
      "cell_type": "code",
      "metadata": {
        "id": "p4m-9XPqXavl",
        "colab_type": "code",
        "colab": {
          "base_uri": "https://localhost:8080/",
          "height": 102
        },
        "outputId": "bd5493be-ad02-40fc-d6f0-785d8cb66105"
      },
      "source": [
        "get_id_from_partial_name(\"Trinity\")"
      ],
      "execution_count": 39,
      "outputs": [
        {
          "output_type": "stream",
          "text": [
            "Trinity Seven OVA 1480\n",
            "Trinity Blood 1805\n",
            "Trinity Seven 1845\n",
            "Persona: Trinity Soul 4293\n",
            "Trinity Seven Movie: Eternity Library to Alchemic Girl 11094\n"
          ],
          "name": "stdout"
        }
      ]
    },
    {
      "cell_type": "code",
      "metadata": {
        "id": "zyEKa4GDbx62",
        "colab_type": "code",
        "colab": {
          "base_uri": "https://localhost:8080/",
          "height": 136
        },
        "outputId": "28e83e9f-b745-47f1-8611-69da638d00c7"
      },
      "source": [
        "get_id_from_partial_name(\"Bleach\")"
      ],
      "execution_count": 40,
      "outputs": [
        {
          "output_type": "stream",
          "text": [
            "Bleach 582\n",
            "Bleach Movie 4: Jigoku-hen 946\n",
            "Bleach Movie 3: Fade to Black - Kimi no Na wo Yobu 1131\n",
            "Bleach Movie 2: The DiamondDust Rebellion - Mou Hitotsu no Hyourinmaru 1274\n",
            "Bleach Movie 1: Memories of Nobody 1333\n",
            "Bleach: Memories in the Rain 2598\n",
            "Bleach: The Sealed Sword Frenzy 3196\n"
          ],
          "name": "stdout"
        }
      ]
    },
    {
      "cell_type": "code",
      "metadata": {
        "id": "0hOuKxlsXdxD",
        "colab_type": "code",
        "colab": {
          "base_uri": "https://localhost:8080/",
          "height": 102
        },
        "outputId": "db34c87d-9350-4b26-9c3d-4af5b3dfe59a"
      },
      "source": [
        "# search by ID; FMA\n",
        "\n",
        "print_similar_animes(id=5114)"
      ],
      "execution_count": 41,
      "outputs": [
        {
          "output_type": "stream",
          "text": [
            "Shen Ming Zhi Zhou\n",
            "Yong Zhe Da Mao Xian 2nd Season\n",
            "Mo Jing Lieren 2nd Season\n",
            "Pankunchi\n",
            "Mo Jing Lieren 3rd Season\n"
          ],
          "name": "stdout"
        }
      ]
    },
    {
      "cell_type": "code",
      "metadata": {
        "id": "hvK5509IWEg8",
        "colab_type": "code",
        "colab": {
          "base_uri": "https://localhost:8080/",
          "height": 34
        },
        "outputId": "b22daff1-1628-4b8c-be15-c553b9be9628"
      },
      "source": [
        "# what is 269? \n",
        "bleach = (anime.anime_id[582])\n",
        "bleach"
      ],
      "execution_count": 42,
      "outputs": [
        {
          "output_type": "execute_result",
          "data": {
            "text/plain": [
              "269"
            ]
          },
          "metadata": {
            "tags": []
          },
          "execution_count": 42
        }
      ]
    },
    {
      "cell_type": "markdown",
      "metadata": {
        "id": "bzsBmVHOoPj6",
        "colab_type": "text"
      },
      "source": [
        "## Now we will graph some information from the data set"
      ]
    },
    {
      "cell_type": "code",
      "metadata": {
        "id": "ODXvvo9wTQ7-",
        "colab_type": "code",
        "colab": {
          "base_uri": "https://localhost:8080/",
          "height": 204
        },
        "outputId": "eae791c8-b5e9-4ed3-d67b-1d4741c1fea5"
      },
      "source": [
        "anime.head()"
      ],
      "execution_count": 43,
      "outputs": [
        {
          "output_type": "execute_result",
          "data": {
            "text/html": [
              "<div>\n",
              "<style scoped>\n",
              "    .dataframe tbody tr th:only-of-type {\n",
              "        vertical-align: middle;\n",
              "    }\n",
              "\n",
              "    .dataframe tbody tr th {\n",
              "        vertical-align: top;\n",
              "    }\n",
              "\n",
              "    .dataframe thead th {\n",
              "        text-align: right;\n",
              "    }\n",
              "</style>\n",
              "<table border=\"1\" class=\"dataframe\">\n",
              "  <thead>\n",
              "    <tr style=\"text-align: right;\">\n",
              "      <th></th>\n",
              "      <th>anime_id</th>\n",
              "      <th>name</th>\n",
              "      <th>genre</th>\n",
              "      <th>type</th>\n",
              "      <th>episodes</th>\n",
              "      <th>rating</th>\n",
              "      <th>members</th>\n",
              "    </tr>\n",
              "  </thead>\n",
              "  <tbody>\n",
              "    <tr>\n",
              "      <th>0</th>\n",
              "      <td>32281</td>\n",
              "      <td>Kimi no Na wa.</td>\n",
              "      <td>Drama, Romance, School, Supernatural</td>\n",
              "      <td>Movie</td>\n",
              "      <td>1.0</td>\n",
              "      <td>9.37</td>\n",
              "      <td>200630.0</td>\n",
              "    </tr>\n",
              "    <tr>\n",
              "      <th>1</th>\n",
              "      <td>5114</td>\n",
              "      <td>Fullmetal Alchemist: Brotherhood</td>\n",
              "      <td>Action, Adventure, Drama, Fantasy, Magic, Mili...</td>\n",
              "      <td>TV</td>\n",
              "      <td>64.0</td>\n",
              "      <td>9.26</td>\n",
              "      <td>793665.0</td>\n",
              "    </tr>\n",
              "    <tr>\n",
              "      <th>2</th>\n",
              "      <td>28977</td>\n",
              "      <td>Gintama°</td>\n",
              "      <td>Action, Comedy, Historical, Parody, Samurai, S...</td>\n",
              "      <td>TV</td>\n",
              "      <td>51.0</td>\n",
              "      <td>9.25</td>\n",
              "      <td>114262.0</td>\n",
              "    </tr>\n",
              "    <tr>\n",
              "      <th>3</th>\n",
              "      <td>9253</td>\n",
              "      <td>Steins;Gate</td>\n",
              "      <td>Sci-Fi, Thriller</td>\n",
              "      <td>TV</td>\n",
              "      <td>24.0</td>\n",
              "      <td>9.17</td>\n",
              "      <td>673572.0</td>\n",
              "    </tr>\n",
              "    <tr>\n",
              "      <th>4</th>\n",
              "      <td>9969</td>\n",
              "      <td>Gintama&amp;#039;</td>\n",
              "      <td>Action, Comedy, Historical, Parody, Samurai, S...</td>\n",
              "      <td>TV</td>\n",
              "      <td>51.0</td>\n",
              "      <td>9.16</td>\n",
              "      <td>151266.0</td>\n",
              "    </tr>\n",
              "  </tbody>\n",
              "</table>\n",
              "</div>"
            ],
            "text/plain": [
              "   anime_id                              name  ... rating   members\n",
              "0     32281                    Kimi no Na wa.  ...   9.37  200630.0\n",
              "1      5114  Fullmetal Alchemist: Brotherhood  ...   9.26  793665.0\n",
              "2     28977                          Gintama°  ...   9.25  114262.0\n",
              "3      9253                       Steins;Gate  ...   9.17  673572.0\n",
              "4      9969                     Gintama&#039;  ...   9.16  151266.0\n",
              "\n",
              "[5 rows x 7 columns]"
            ]
          },
          "metadata": {
            "tags": []
          },
          "execution_count": 43
        }
      ]
    },
    {
      "cell_type": "code",
      "metadata": {
        "id": "u3fSEpDlU2mi",
        "colab_type": "code",
        "colab": {}
      },
      "source": [
        "# Look at types and rating\n",
        "import matplotlib.pyplot as pls \n",
        "import pandas as pd\n",
        "import seaborn as sns\n"
      ],
      "execution_count": 0,
      "outputs": []
    },
    {
      "cell_type": "markdown",
      "metadata": {
        "id": "_trDNKaioeiG",
        "colab_type": "text"
      },
      "source": [
        "## With a simple histogram we can see that the majority of the ratings are between 6 and 7-7.5"
      ]
    },
    {
      "cell_type": "code",
      "metadata": {
        "id": "ev5rcVl5KYlt",
        "colab_type": "code",
        "colab": {
          "base_uri": "https://localhost:8080/",
          "height": 283
        },
        "outputId": "8634c8c4-0c84-41be-8ce8-a16b27e5cced"
      },
      "source": [
        "# Histogram of the ratings \n",
        "plt.xlabel('Ratings 1-10')\n",
        "plt.ylabel('Number accumulated')\n",
        "anime.rating.hist(color = \"skyblue\", ec=\"black\", lw=2);"
      ],
      "execution_count": 157,
      "outputs": [
        {
          "output_type": "display_data",
          "data": {
            "image/png": "[encoded data removed]",
            "text/plain": [
              "<Figure size 432x288 with 1 Axes>"
            ]
          },
          "metadata": {
            "tags": []
          }
        }
      ]
    },
    {
      "cell_type": "markdown",
      "metadata": {
        "id": "cBxaGdMAon08",
        "colab_type": "text"
      },
      "source": [
        "## With this bar chart you can see how your favorite anime stacks up against others"
      ]
    },
    {
      "cell_type": "code",
      "metadata": {
        "id": "xm2_s9jycz7B",
        "colab_type": "code",
        "colab": {
          "base_uri": "https://localhost:8080/",
          "height": 281
        },
        "outputId": "d223cc43-c0da-4de3-cb6c-c2e2a3c90cba"
      },
      "source": [
        "# 5 of my favorite animes and their overall rating \n",
        "objects = ('Bleach', 'FMA', 'Naruto', \n",
        "           \"Cowboy Bebop\", 'Initial D')\n",
        "y_pos = np.arange(len(objects))\n",
        "performance = [7.95,9.26,8.03,8.83,7.9,]\n",
        "\n",
        "plt.bar(y_pos, performance, align='center', alpha=0.5, color=['black', 'blue', 'orange', 'red', 'silver'])\n",
        "plt.xticks(y_pos, objects)\n",
        "plt.ylabel('Rating')\n",
        "plt.ylim(5,10)\n",
        "plt.title('My 5 Favorite anime')\n",
        "\n",
        "plt.show()"
      ],
      "execution_count": 57,
      "outputs": [
        {
          "output_type": "display_data",
          "data": {
            "image/png": "[encoded data removed]",
            "text/plain": [
              "<Figure size 432x288 with 1 Axes>"
            ]
          },
          "metadata": {
            "tags": []
          }
        }
      ]
    },
    {
      "cell_type": "code",
      "metadata": {
        "id": "nkbRyevQo4OK",
        "colab_type": "code",
        "colab": {
          "base_uri": "https://localhost:8080/",
          "height": 281
        },
        "outputId": "247d2fd7-4603-4094-fb18-8489b0f7465d"
      },
      "source": [
        "# 5 of my friend S. Elliot's favorite animes and their overall rating \n",
        "objects = ('Code Geass', 'FMA', 'Death Note', \n",
        "           \"AoT\", 'Gundam')\n",
        "y_pos = np.arange(len(objects))\n",
        "performance = [8.98,9.26,8.71,8.54,7.96,]\n",
        "\n",
        "plt.bar(y_pos, performance, align='center', alpha=0.5, color=['orange', 'blue', 'black', 'red', 'silver'])\n",
        "plt.xticks(y_pos, objects)\n",
        "plt.ylabel('Rating')\n",
        "plt.ylim(5,10)\n",
        "plt.title(\"S. Elliot's 5 Favorite anime\")\n",
        "\n",
        "plt.show()"
      ],
      "execution_count": 47,
      "outputs": [
        {
          "output_type": "display_data",
          "data": {
            "image/png": "[encoded data removed]",
            "text/plain": [
              "<Figure size 432x288 with 1 Axes>"
            ]
          },
          "metadata": {
            "tags": []
          }
        }
      ]
    },
    {
      "cell_type": "markdown",
      "metadata": {
        "id": "jsYV1bUqxF1j",
        "colab_type": "text"
      },
      "source": [
        "## This Stem Plot shows us the ratings from members up to 1,000,000 unique entries"
      ]
    },
    {
      "cell_type": "code",
      "metadata": {
        "id": "jTK0MIUPlUwa",
        "colab_type": "code",
        "colab": {
          "base_uri": "https://localhost:8080/",
          "height": 295
        },
        "outputId": "c0766ca4-6b33-4a69-9a07-1e52c6168bf0"
      },
      "source": [
        "# Ratings from members up to 1 million \n",
        "import matplotlib.pyplot as plt\n",
        "import numpy as np\n",
        "plt.xlabel('Ratings 1-10')\n",
        "plt.ylabel('Members given rating')\n",
        "plt.title('Ratings from Members')\n",
        "(markers, stemlines, baseline) = plt.stem(anime.rating, anime.members)\n",
        "plt.setp(markers, marker='D', markersize=10, markeredgecolor=\"orange\", markeredgewidth=2)\n",
        "plt.show()\n",
        "\n",
        "# plt.stem(anime.rating, anime.members); "
      ],
      "execution_count": 54,
      "outputs": [
        {
          "output_type": "display_data",
          "data": {
            "image/png": "[encoded data removed]",
            "text/plain": [
              "<Figure size 432x288 with 1 Axes>"
            ]
          },
          "metadata": {
            "tags": []
          }
        }
      ]
    },
    {
      "cell_type": "code",
      "metadata": {
        "id": "QFm5KYGbhTUg",
        "colab_type": "code",
        "colab": {
          "base_uri": "https://localhost:8080/",
          "height": 34
        },
        "outputId": "0891fcc5-3f36-4654-f960-3d2f75eed7da"
      },
      "source": [
        "anime.rating.count()"
      ],
      "execution_count": 55,
      "outputs": [
        {
          "output_type": "execute_result",
          "data": {
            "text/plain": [
              "12294"
            ]
          },
          "metadata": {
            "tags": []
          },
          "execution_count": 55
        }
      ]
    }
  ]
}